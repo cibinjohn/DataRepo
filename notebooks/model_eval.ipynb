{
 "cells": [
  {
   "cell_type": "code",
   "execution_count": 1,
   "id": "f2ffc4b6",
   "metadata": {},
   "outputs": [],
   "source": [
    "import os\n",
    "\n",
    "import pandas as pd\n",
    "import seaborn as sns\n",
    "import matplotlib.pyplot as plt\n",
    "from sklearn.metrics import confusion_matrix, precision_score, recall_score\n",
    "from io import StringIO\n",
    "\n",
    "from utils import BERTmodelTrain"
   ]
  },
  {
   "cell_type": "code",
   "execution_count": 3,
   "id": "cf5fb1da",
   "metadata": {},
   "outputs": [
    {
     "name": "stdout",
     "output_type": "stream",
     "text": [
      "Loading pretrained model...\n"
     ]
    },
    {
     "name": "stderr",
     "output_type": "stream",
     "text": [
      "Some weights of BertForTokenClassification were not initialized from the model checkpoint at bert-base-cased and are newly initialized: ['classifier.bias', 'classifier.weight']\n",
      "You should probably TRAIN this model on a down-stream task to be able to use it for predictions and inference.\n"
     ]
    },
    {
     "name": "stdout",
     "output_type": "stream",
     "text": [
      "\n",
      "Pretrained model loaded.  Time taken is %f seconds... 1.11\n"
     ]
    }
   ],
   "source": [
    "\n",
    "\n",
    "model = BERTmodelTrain(output_dir=\"/home/cibin/Desktop/exl/TD/models/transformers/model_batch1_v1\",\n",
    "                       labels=['O',\"Authentication\"])"
   ]
  },
  {
   "cell_type": "code",
   "execution_count": 4,
   "id": "a2361d5f",
   "metadata": {},
   "outputs": [
    {
     "name": "stdout",
     "output_type": "stream",
     "text": [
      "\n",
      "---Loading model...\n",
      "---Model loaded. Time taken is %f seconds... 0.5\n"
     ]
    }
   ],
   "source": [
    "model.load_saved_model()"
   ]
  },
  {
   "cell_type": "code",
   "execution_count": 4,
   "id": "8fc395d1",
   "metadata": {},
   "outputs": [],
   "source": [
    "data_path = '/home/cibin/Desktop/exl/TD/data/DS_v1/annotated/docanno_output/batch1/batch1_247/processed/final'\n"
   ]
  },
  {
   "cell_type": "code",
   "execution_count": 7,
   "id": "12f7f9be",
   "metadata": {},
   "outputs": [],
   "source": [
    "\n",
    "model.args.data_dir = data_path"
   ]
  },
  {
   "cell_type": "code",
   "execution_count": 8,
   "id": "39e9d46e",
   "metadata": {},
   "outputs": [
    {
     "name": "stdout",
     "output_type": "stream",
     "text": [
      "file_path :  /home/cibin/Desktop/exl/TD/data/DS_v1/annotated/docanno_output/batch1/batch1_247/processed/final/train.txt\n",
      "mode :  train\n"
     ]
    },
    {
     "name": "stderr",
     "output_type": "stream",
     "text": [
      "Evaluating: 100%|███████████████████████████████| 25/25 [00:08<00:00,  2.85it/s]"
     ]
    },
    {
     "name": "stdout",
     "output_type": "stream",
     "text": [
      "3\n",
      "results :  {'loss': 0.00040851755649782715, 'precision': 0.9794871794871794, 'recall': 0.9947916666666666, 'f1': 0.9870801033591731}\n",
      "results :  {'loss': 0.00040851755649782715, 'precision': 0.9794871794871794, 'recall': 0.9947916666666666, 'f1': 0.9870801033591731}\n"
     ]
    },
    {
     "name": "stderr",
     "output_type": "stream",
     "text": [
      "\n",
      "/home/cibin/virtual_envs/nlp_env/lib/python3.11/site-packages/seqeval/metrics/sequence_labeling.py:171: UserWarning: Authentication seems not to be NE tag.\n",
      "  warnings.warn('{} seems not to be NE tag.'.format(chunk))\n"
     ]
    }
   ],
   "source": [
    "train_actual, train_predictions = model._predict_on_file(os.path.join(data_path, 'train.txt'))"
   ]
  },
  {
   "cell_type": "code",
   "execution_count": 9,
   "id": "350d98e9",
   "metadata": {},
   "outputs": [
    {
     "name": "stdout",
     "output_type": "stream",
     "text": [
      "file_path :  /home/cibin/Desktop/exl/TD/data/DS_v1/annotated/docanno_output/batch1/batch1_247/processed/final/test.txt\n",
      "mode :  test\n"
     ]
    },
    {
     "name": "stderr",
     "output_type": "stream",
     "text": [
      "Evaluating: 100%|█████████████████████████████████| 7/7 [00:02<00:00,  3.29it/s]"
     ]
    },
    {
     "name": "stdout",
     "output_type": "stream",
     "text": [
      "3\n",
      "results :  {'loss': 0.09421509801489135, 'precision': 0.8301886792452831, 'recall': 0.9361702127659575, 'f1': 0.88}\n",
      "results :  {'loss': 0.09421509801489135, 'precision': 0.8301886792452831, 'recall': 0.9361702127659575, 'f1': 0.88}\n"
     ]
    },
    {
     "name": "stderr",
     "output_type": "stream",
     "text": [
      "\n"
     ]
    }
   ],
   "source": [
    "test_actual, test_predictions = model._predict_on_file(os.path.join(data_path, 'test.txt'))"
   ]
  },
  {
   "cell_type": "code",
   "execution_count": 10,
   "id": "c47a6db2",
   "metadata": {},
   "outputs": [],
   "source": [
    "labels = ['O', 'Authentication']\n",
    "\n",
    "def evaluate(df):\n",
    "\n",
    "    cm = confusion_matrix(df['actual_label'], df['prediction'], labels=labels)\n",
    "    # print(cm)\n",
    "\n",
    "    plt.figure(figsize=(6,4))\n",
    "    sns.heatmap(cm, annot=True, fmt='d', cmap='Blues', xticklabels=labels, yticklabels=labels)\n",
    "    plt.xlabel('Prediction')\n",
    "    plt.ylabel(\"Actual\")\n",
    "    plt.title(\"Confusion matrix\")\n",
    "    plt.tight_layout()\n",
    "    plt.show()\n",
    "    \n",
    "    precisions = precision_score(df['actual_label'], df['prediction'], labels=labels, average=None)\n",
    "    recalls = recall_score(df['actual_label'], df['prediction'], labels=labels, average=None)\n",
    "    \n",
    "    for i, label in enumerate(labels):\n",
    "        print(\"\\n-----------------\\n\")\n",
    "\n",
    "        print(\"label : \",label)\n",
    "        print(\"precision : \",precisions[i])\n",
    "        print(\"recall : \",recalls[i])\n",
    "            \n",
    "# evaluate(pred_df)"
   ]
  },
  {
   "cell_type": "code",
   "execution_count": 11,
   "id": "d56dd989",
   "metadata": {},
   "outputs": [
    {
     "data": {
      "text/html": [
       "<div>\n",
       "<style scoped>\n",
       "    .dataframe tbody tr th:only-of-type {\n",
       "        vertical-align: middle;\n",
       "    }\n",
       "\n",
       "    .dataframe tbody tr th {\n",
       "        vertical-align: top;\n",
       "    }\n",
       "\n",
       "    .dataframe thead th {\n",
       "        text-align: right;\n",
       "    }\n",
       "</style>\n",
       "<table border=\"1\" class=\"dataframe\">\n",
       "  <thead>\n",
       "    <tr style=\"text-align: right;\">\n",
       "      <th></th>\n",
       "      <th>token</th>\n",
       "      <th>actual_label</th>\n",
       "      <th>prediction</th>\n",
       "    </tr>\n",
       "  </thead>\n",
       "  <tbody>\n",
       "    <tr>\n",
       "      <th>0</th>\n",
       "      <td>Agent:</td>\n",
       "      <td>O</td>\n",
       "      <td>O</td>\n",
       "    </tr>\n",
       "    <tr>\n",
       "      <th>1</th>\n",
       "      <td>Maple</td>\n",
       "      <td>O</td>\n",
       "      <td>O</td>\n",
       "    </tr>\n",
       "    <tr>\n",
       "      <th>2</th>\n",
       "      <td>Bank's</td>\n",
       "      <td>O</td>\n",
       "      <td>O</td>\n",
       "    </tr>\n",
       "    <tr>\n",
       "      <th>3</th>\n",
       "      <td>Retirement</td>\n",
       "      <td>O</td>\n",
       "      <td>O</td>\n",
       "    </tr>\n",
       "    <tr>\n",
       "      <th>4</th>\n",
       "      <td>Planning,</td>\n",
       "      <td>O</td>\n",
       "      <td>O</td>\n",
       "    </tr>\n",
       "    <tr>\n",
       "      <th>...</th>\n",
       "      <td>...</td>\n",
       "      <td>...</td>\n",
       "      <td>...</td>\n",
       "    </tr>\n",
       "    <tr>\n",
       "      <th>6679</th>\n",
       "      <td>scam.</td>\n",
       "      <td>O</td>\n",
       "      <td>O</td>\n",
       "    </tr>\n",
       "    <tr>\n",
       "      <th>6680</th>\n",
       "      <td>Customer:</td>\n",
       "      <td>O</td>\n",
       "      <td>O</td>\n",
       "    </tr>\n",
       "    <tr>\n",
       "      <th>6681</th>\n",
       "      <td>Good</td>\n",
       "      <td>O</td>\n",
       "      <td>O</td>\n",
       "    </tr>\n",
       "    <tr>\n",
       "      <th>6682</th>\n",
       "      <td>to</td>\n",
       "      <td>O</td>\n",
       "      <td>O</td>\n",
       "    </tr>\n",
       "    <tr>\n",
       "      <th>6683</th>\n",
       "      <td>know!</td>\n",
       "      <td>O</td>\n",
       "      <td>O</td>\n",
       "    </tr>\n",
       "  </tbody>\n",
       "</table>\n",
       "<p>6684 rows × 3 columns</p>\n",
       "</div>"
      ],
      "text/plain": [
       "           token actual_label prediction\n",
       "0         Agent:            O          O\n",
       "1          Maple            O          O\n",
       "2         Bank's            O          O\n",
       "3     Retirement            O          O\n",
       "4      Planning,            O          O\n",
       "...          ...          ...        ...\n",
       "6679       scam.            O          O\n",
       "6680   Customer:            O          O\n",
       "6681        Good            O          O\n",
       "6682          to            O          O\n",
       "6683       know!            O          O\n",
       "\n",
       "[6684 rows x 3 columns]"
      ]
     },
     "execution_count": 11,
     "metadata": {},
     "output_type": "execute_result"
    }
   ],
   "source": [
    "test_df = pd.read_csv(StringIO(test_actual), sep=' ', header = None)\n",
    "test_df.columns = ['token','actual_label']\n",
    "\n",
    "test_pred_df = pd.read_csv(StringIO(test_predictions), sep=' ', header = None)\n",
    "test_pred_df.columns = ['token','prediction']\n",
    "\n",
    "test_df['prediction'] = test_pred_df['prediction']\n",
    "test_df"
   ]
  },
  {
   "cell_type": "code",
   "execution_count": 12,
   "id": "9caec191",
   "metadata": {},
   "outputs": [
    {
     "data": {
      "text/html": [
       "<div>\n",
       "<style scoped>\n",
       "    .dataframe tbody tr th:only-of-type {\n",
       "        vertical-align: middle;\n",
       "    }\n",
       "\n",
       "    .dataframe tbody tr th {\n",
       "        vertical-align: top;\n",
       "    }\n",
       "\n",
       "    .dataframe thead th {\n",
       "        text-align: right;\n",
       "    }\n",
       "</style>\n",
       "<table border=\"1\" class=\"dataframe\">\n",
       "  <thead>\n",
       "    <tr style=\"text-align: right;\">\n",
       "      <th></th>\n",
       "      <th>token</th>\n",
       "      <th>actual_label</th>\n",
       "      <th>prediction</th>\n",
       "    </tr>\n",
       "  </thead>\n",
       "  <tbody>\n",
       "    <tr>\n",
       "      <th>0</th>\n",
       "      <td>Agent:</td>\n",
       "      <td>O</td>\n",
       "      <td>O</td>\n",
       "    </tr>\n",
       "    <tr>\n",
       "      <th>1</th>\n",
       "      <td>Good</td>\n",
       "      <td>O</td>\n",
       "      <td>O</td>\n",
       "    </tr>\n",
       "    <tr>\n",
       "      <th>2</th>\n",
       "      <td>morning!</td>\n",
       "      <td>O</td>\n",
       "      <td>O</td>\n",
       "    </tr>\n",
       "    <tr>\n",
       "      <th>3</th>\n",
       "      <td>This</td>\n",
       "      <td>O</td>\n",
       "      <td>O</td>\n",
       "    </tr>\n",
       "    <tr>\n",
       "      <th>4</th>\n",
       "      <td>is</td>\n",
       "      <td>O</td>\n",
       "      <td>O</td>\n",
       "    </tr>\n",
       "    <tr>\n",
       "      <th>...</th>\n",
       "      <td>...</td>\n",
       "      <td>...</td>\n",
       "      <td>...</td>\n",
       "    </tr>\n",
       "    <tr>\n",
       "      <th>27429</th>\n",
       "      <td>is</td>\n",
       "      <td>O</td>\n",
       "      <td>O</td>\n",
       "    </tr>\n",
       "    <tr>\n",
       "      <th>27430</th>\n",
       "      <td>now</td>\n",
       "      <td>O</td>\n",
       "      <td>O</td>\n",
       "    </tr>\n",
       "    <tr>\n",
       "      <th>27431</th>\n",
       "      <td>active.</td>\n",
       "      <td>O</td>\n",
       "      <td>O</td>\n",
       "    </tr>\n",
       "    <tr>\n",
       "      <th>27432</th>\n",
       "      <td>Customer:</td>\n",
       "      <td>O</td>\n",
       "      <td>O</td>\n",
       "    </tr>\n",
       "    <tr>\n",
       "      <th>27433</th>\n",
       "      <td>Perfect!</td>\n",
       "      <td>O</td>\n",
       "      <td>O</td>\n",
       "    </tr>\n",
       "  </tbody>\n",
       "</table>\n",
       "<p>27434 rows × 3 columns</p>\n",
       "</div>"
      ],
      "text/plain": [
       "           token actual_label prediction\n",
       "0         Agent:            O          O\n",
       "1           Good            O          O\n",
       "2       morning!            O          O\n",
       "3           This            O          O\n",
       "4             is            O          O\n",
       "...          ...          ...        ...\n",
       "27429         is            O          O\n",
       "27430        now            O          O\n",
       "27431    active.            O          O\n",
       "27432  Customer:            O          O\n",
       "27433   Perfect!            O          O\n",
       "\n",
       "[27434 rows x 3 columns]"
      ]
     },
     "execution_count": 12,
     "metadata": {},
     "output_type": "execute_result"
    }
   ],
   "source": [
    "train_df = pd.read_csv(StringIO(train_actual), sep=' ', header = None)\n",
    "train_df.columns = ['token','actual_label']\n",
    "\n",
    "train_pred_df = pd.read_csv(StringIO(train_predictions), sep=' ', header = None)\n",
    "train_pred_df.columns = ['token','prediction']\n",
    "\n",
    "train_df['prediction'] = train_pred_df['prediction']\n",
    "train_df"
   ]
  },
  {
   "cell_type": "code",
   "execution_count": 13,
   "id": "39e2b72a",
   "metadata": {},
   "outputs": [
    {
     "data": {
      "image/png": "[encoded data removed]",
      "text/plain": [
       "<Figure size 600x400 with 2 Axes>"
      ]
     },
     "metadata": {},
     "output_type": "display_data"
    },
    {
     "name": "stdout",
     "output_type": "stream",
     "text": [
      "\n",
      "-----------------\n",
      "\n",
      "label :  O\n",
      "precision :  0.9999021095394254\n",
      "recall :  0.9998531714956931\n",
      "\n",
      "-----------------\n",
      "\n",
      "label :  Authentication\n",
      "precision :  0.9995716121662145\n",
      "recall :  0.9997143673236218\n"
     ]
    }
   ],
   "source": [
    "evaluate(train_df[train_df.prediction.isna()==False])"
   ]
  },
  {
   "cell_type": "code",
   "execution_count": 14,
   "id": "36c1efd0",
   "metadata": {},
   "outputs": [
    {
     "data": {
      "image/png": "[encoded data removed]",
      "text/plain": [
       "<Figure size 600x400 with 2 Axes>"
      ]
     },
     "metadata": {},
     "output_type": "display_data"
    },
    {
     "name": "stdout",
     "output_type": "stream",
     "text": [
      "\n",
      "-----------------\n",
      "\n",
      "label :  O\n",
      "precision :  0.9922528032619776\n",
      "recall :  0.9888256806176351\n",
      "\n",
      "-----------------\n",
      "\n",
      "label :  Authentication\n",
      "precision :  0.9690837549184935\n",
      "recall :  0.978433598183882\n"
     ]
    }
   ],
   "source": [
    "evaluate(test_df)"
   ]
  },
  {
   "cell_type": "code",
   "execution_count": 6,
   "id": "d62940fa",
   "metadata": {},
   "outputs": [
    {
     "data": {
      "text/plain": [
       "107721218"
      ]
     },
     "execution_count": 6,
     "metadata": {},
     "output_type": "execute_result"
    }
   ],
   "source": [
    "model.model.num_parameters()"
   ]
  },
  {
   "cell_type": "code",
   "execution_count": null,
   "id": "8f009e92",
   "metadata": {},
   "outputs": [],
   "source": []
  }
 ],
 "metadata": {
  "kernelspec": {
   "display_name": "nlp_env",
   "language": "python",
   "name": "nlp_env"
  },
  "language_info": {
   "codemirror_mode": {
    "name": "ipython",
    "version": 3
   },
   "file_extension": ".py",
   "mimetype": "text/x-python",
   "name": "python",
   "nbconvert_exporter": "python",
   "pygments_lexer": "ipython3",
   "version": "3.11.5"
  }
 },
 "nbformat": 4,
 "nbformat_minor": 5
}
