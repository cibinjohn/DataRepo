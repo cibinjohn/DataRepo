{
 "cells": [
  {
   "cell_type": "code",
   "execution_count": 1,
   "id": "c3cd3775",
   "metadata": {},
   "outputs": [],
   "source": [
    "import pandas as pd\n",
    "import re\n",
    "import os"
   ]
  },
  {
   "cell_type": "code",
   "execution_count": 3,
   "id": "49654d28",
   "metadata": {},
   "outputs": [
    {
     "data": {
      "text/html": [
       "<div>\n",
       "<style scoped>\n",
       "    .dataframe tbody tr th:only-of-type {\n",
       "        vertical-align: middle;\n",
       "    }\n",
       "\n",
       "    .dataframe tbody tr th {\n",
       "        vertical-align: top;\n",
       "    }\n",
       "\n",
       "    .dataframe thead th {\n",
       "        text-align: right;\n",
       "    }\n",
       "</style>\n",
       "<table border=\"1\" class=\"dataframe\">\n",
       "  <thead>\n",
       "    <tr style=\"text-align: right;\">\n",
       "      <th></th>\n",
       "      <th>call_id</th>\n",
       "      <th>conversation</th>\n",
       "    </tr>\n",
       "  </thead>\n",
       "  <tbody>\n",
       "    <tr>\n",
       "      <th>0</th>\n",
       "      <td>241</td>\n",
       "      <td>Agent: Thank you for calling Maple Bank's Busi...</td>\n",
       "    </tr>\n",
       "    <tr>\n",
       "      <th>1</th>\n",
       "      <td>242</td>\n",
       "      <td>Agent: Maple Bank's Fraud Prevention, this is ...</td>\n",
       "    </tr>\n",
       "    <tr>\n",
       "      <th>2</th>\n",
       "      <td>243</td>\n",
       "      <td>Agent: Good morning, Maple Bank's Mortgage Dep...</td>\n",
       "    </tr>\n",
       "    <tr>\n",
       "      <th>3</th>\n",
       "      <td>244</td>\n",
       "      <td>Agent: Thank you for calling Maple Bank's Trus...</td>\n",
       "    </tr>\n",
       "    <tr>\n",
       "      <th>4</th>\n",
       "      <td>245</td>\n",
       "      <td>Agent: Maple Bank's International Banking, thi...</td>\n",
       "    </tr>\n",
       "  </tbody>\n",
       "</table>\n",
       "</div>"
      ],
      "text/plain": [
       "   call_id                                       conversation\n",
       "0      241  Agent: Thank you for calling Maple Bank's Busi...\n",
       "1      242  Agent: Maple Bank's Fraud Prevention, this is ...\n",
       "2      243  Agent: Good morning, Maple Bank's Mortgage Dep...\n",
       "3      244  Agent: Thank you for calling Maple Bank's Trus...\n",
       "4      245  Agent: Maple Bank's International Banking, thi..."
      ]
     },
     "execution_count": 3,
     "metadata": {},
     "output_type": "execute_result"
    }
   ],
   "source": [
    "df = pd.read_csv(\"../data/DS_v1/raw/call_transcripts_l15.csv\")\n",
    "df.head()"
   ]
  },
  {
   "cell_type": "code",
   "execution_count": 4,
   "id": "dd530b13",
   "metadata": {},
   "outputs": [
    {
     "name": "stdout",
     "output_type": "stream",
     "text": [
      "Agent: Thank you for calling Maple Bank's Business Banking, this is Michael speaking. How may I assist you today? Customer: Hi Michael, I need to set up payroll services for my growing small business. Agent: Congratulations on your business growth! We offer comprehensive payroll solutions that integrate directly with your business checking account. First, let's verify your business - could you provide your business name and EIN? Customer: Sure, it's Summit Consulting Group and our EIN is 12-3456789. Agent: Thank you. I see you've been banking with us for three years with excellent standing. Our payroll services start at $45/month for up to 10 employees and include direct deposit, tax filing, and year-end W-2 processing. Would you like me to walk through the setup process? Customer: Yes, but I'm particularly concerned about handling multi-state payroll as some employees work remotely. Agent: I understand - our premium payroll package at $75/month handles all multi-state tax withholdings and filings automatically. It also includes HR support and employee self-service portals. Let me email you a comparison of our payroll packages along with a demo link so you can see the platform in action before committing.\n"
     ]
    }
   ],
   "source": [
    "sample_text = df.conversation.tolist()[0]\n",
    "print(sample_text)"
   ]
  },
  {
   "cell_type": "code",
   "execution_count": 5,
   "id": "0353e66c",
   "metadata": {},
   "outputs": [
    {
     "name": "stdout",
     "output_type": "stream",
     "text": [
      "######################\n",
      "Agent: Thank you for calling Maple Bank's Business Banking, this is Michael speaking. How may I assist you today? Customer: Hi Michael, I need to set up payroll services for my growing small business. Agent: Congratulations on your business growth! We offer comprehensive payroll solutions that integrate directly with your business checking account. First, let's verify your business - could you provide your business name and EIN? Customer: Sure, it's Summit Consulting Group and our EIN is 12-3456789. Agent: Thank you. I see you've been banking with us for three years with excellent standing. Our payroll services start at $45/month for up to 10 employees and include direct deposit, tax filing, and year-end W-2 processing. Would you like me to walk through the setup process? Customer: Yes, but I'm particularly concerned about handling multi-state payroll as some employees work remotely. Agent: I understand - our premium payroll package at $75/month handles all multi-state tax withholdings and filings automatically. It also includes HR support and employee self-service portals. Let me email you a comparison of our payroll packages along with a demo link so you can see the platform in action before committing.\n",
      "######################\n",
      "Agent: Maple Bank's Fraud Prevention, this is Jennifer speaking. How can I help? Customer: Hello Jennifer, I just received an alert about someone trying to change my online banking password. Agent: I'm glad you called - let's secure your account immediately. First, for verification, could you provide the last four digits of your debit card and your mother's maiden name? Customer: My card ends with 1122 and mother's maiden name is Anderson. Agent: Thank you. Our system shows an attempted password reset from an IP address in another state. I've locked your online access as a precaution. To restore your account, we'll need to verify your identity in person at a branch or through our video verification system. Customer: I can come to the branch today. What should I bring? Agent: Please bring your government-issued ID and a recent account statement. I've noted your account and placed a temporary hold on all electronic transactions. When you arrive, ask for the branch manager and mention case number FRD-654321 for immediate attention. I'm also emailing you detailed instructions and security tips to prevent future fraud attempts.\n",
      "######################\n",
      "Agent: Good morning, Maple Bank's Mortgage Department, this is David speaking. How may I assist you? Customer: Hi David, I'm buying my first home and need guidance on the mortgage process. Agent: Congratulations on this exciting step! Purchasing a home can be complex, so I'm glad you called. First, let's verify some basic information - are you working with a real estate agent yet? Customer: Yes, but we haven't found a property yet. I want to get pre-approved first. Agent: That's very smart. For pre-approval, we'll need to review your income, assets, credit history and debt obligations. Based on current rates, you could likely qualify for a loan amount between $300,000-$350,000 with your reported income. Would you like to schedule an appointment with one of our mortgage specialists? Customer: Yes, but can you tell me what documents I'll need? Agent: Absolutely. You'll need pay stubs, W-2s, bank statements, and tax returns. I'll email you a complete checklist and can schedule you with our first-time homebuyer specialist, Sarah Johnson, who's excellent at explaining each step. She has availability tomorrow or Friday - which works better for you?\n",
      "######################\n",
      "Agent: Thank you for calling Maple Bank's Trust Services, this is Elizabeth speaking. How may I help you? Customer: Hello Elizabeth, I need to establish a trust for my special needs child. Agent: That's very thoughtful planning. Special needs trusts require careful structuring to maintain benefit eligibility. First, let me explain that we offer two options: first-party trusts for the beneficiary's own assets, and third-party trusts funded by others. Which situation applies to you? Customer: This would be funded from my life insurance and savings. Agent: For a third-party special needs trust, you'll need to work with an attorney to draft the document, then we can serve as trustee. Our trust administration fee is 1% annually with a $5,000 minimum. Would you like me to connect you with attorneys in our network who specialize in special needs planning? Customer: Yes, that would be helpful. Agent: I've emailed you three qualified attorney referrals along with our trust services brochure. I also recommend scheduling a consultation with our trust officer, Mr. Wilson, who can explain how we administer these trusts to maximize your child's benefits and quality of life.\n",
      "######################\n",
      "Agent: Maple Bank's International Banking, this is Thomas speaking. How can I assist you? Customer: Hi Thomas, I'm an expatriate needing to transfer funds between my US and overseas accounts regularly. Agent: I understand the unique needs of expats. We offer several solutions including multi-currency accounts and preferential exchange rates for clients living abroad. First, could you verify your account and current country of residence? Customer: My account ends with 3344 and I'm living in Germany. Agent: Thank you. For your situation, I recommend our Global Expat Account which allows you to hold USD and EUR, with free transfers between the currencies at rates better than typical retail exchange. Customer: That sounds perfect. What's required to open one? Agent: We'll need your passport, proof of foreign address, and a completed W-9 form. The account has a $25 monthly fee but it's waived if you maintain $50,000 in combined balances. I can email you the application and document requirements - would you like me to connect you with our expat banking specialist to discuss further?\n",
      "######################\n",
      "Agent: Good afternoon, Maple Bank's Credit Card Rewards, this is Stephanie speaking. How can I help? Customer: Hello Stephanie, I want to maximize my travel rewards but find the program confusing. Agent: I'd be happy to explain how to get the most value from your rewards. First, let's verify your card - last four digits and zip code please? Customer: Card ends with 4455, zip 90210. Agent: Thank you. I see you have 85,000 points worth $850 cash or $1,275 in travel through our portal. The best value comes when transferring points to airline partners where they can be worth 2-3 cents each. Customer: Which partners offer the best deals? Agent: Currently, transferring to Star Alliance airlines gives the best value for international business class. For example, 80,000 points could book a roundtrip to Europe worth $3,000+. Would you like me to walk you through the transfer process or connect you with our travel concierge to find specific award flights?\n",
      "######################\n",
      "Agent: Thank you for calling Maple Bank's Small Business Lending, this is Christopher speaking. How may I assist you? Customer: Hi Christopher, I'm opening a restaurant and need an SBA loan for equipment and renovations. Agent: That's exciting! Our SBA 7(a) loans are perfect for new restaurant financing. First, let's discuss your project - what's the total amount needed and what collateral can you offer? Customer: We need $350,000 for kitchen equipment and build-out, with the property as collateral. Agent: Excellent. SBA loans typically require 10-20% owner equity injection. We'll need your business plan, financial projections, and personal financial statements. Customer: How long does SBA approval take? Agent: The full process takes 60-90 days, but we can give a preliminary answer in about 3 weeks. I'll email you our SBA loan checklist and schedule you with our SBA specialist who's helped open over 50 restaurants in our area.\n",
      "######################\n",
      "Agent: Maple Bank's Retirement Planning, this is Nicole speaking. How can I help? Customer: Hello Nicole, I'm 55 and considering early retirement next year. Agent: That's a major life transition that requires careful planning. First, let's discuss your retirement accounts - do you have a 401(k), IRA, or other savings? Customer: Yes, $800,000 in my 401(k) and $200,000 in IRAs. Agent: At your age, you can access 401(k) funds without penalty if you retire, but I'd recommend rolling it to an IRA first for more flexibility. We should analyze your Social Security strategy, healthcare coverage, and tax-efficient withdrawal plan. Would you like to schedule a comprehensive retirement review with our CFP®? Customer: Yes, what information should I prepare? Agent: Please gather statements for all accounts, your most recent tax return, and a list of expected retirement expenses. I'm scheduling you with Mr. Reynolds, our senior planner, who specializes in early retirement transitions.\n",
      "######################\n",
      "Agent: Good morning, Maple Bank's Digital Wallet Support, this is Jason speaking. How can I assist? Customer: Hi Jason, I can't add my new credit card to Apple Pay after getting a replacement. Agent: I'm happy to help troubleshoot this. First, let's verify your card - last four digits and expiration date please? Customer: It's 5566, expiring 05/2027. Agent: Thank you. Sometimes the token needs to be refreshed after reissuance. Let's try removing the old card from your wallet completely, then restart your phone before adding the new one. Customer: Okay, I've done that. Agent: Great. Now try adding the card again - you should receive a verification text from us. I'll stay on the line while you complete these steps. If it still doesn't work, we can generate a special verification code as a backup method.\n",
      "######################\n",
      "Agent: Thank you for calling Maple Bank's Estate Services, this is Melissa speaking. How may I help you? Customer: Hello Melissa, my father passed away and I need to access his safe deposit box. Agent: My sincere condolences. To access the box, we'll need the death certificate and letters testamentary showing your authority. Customer: I have those. What's the process? Agent: First, we'll need to inventory the box contents with two bank employees present. I recommend scheduling this when you can dedicate 1-2 hours. Our downtown branch has the most availability - would tomorrow afternoon work? I'll personally coordinate with the vault team and prepare all necessary paperwork in advance to make this as smooth as possible during this difficult time.\n"
     ]
    }
   ],
   "source": [
    "transcript_list = df.conversation.tolist()\n",
    "id_list = df.call_id.tolist()\n",
    "\n",
    "for item in transcript_list:\n",
    "    print('######################')\n",
    "    print(item)\n",
    "    "
   ]
  },
  {
   "cell_type": "code",
   "execution_count": null,
   "id": "48655f96",
   "metadata": {},
   "outputs": [],
   "source": []
  },
  {
   "cell_type": "code",
   "execution_count": 6,
   "id": "20bd7fb5",
   "metadata": {},
   "outputs": [],
   "source": [
    "# def preprocess(arg):\n",
    "#     return re.sub(r'[^a-zA-Z0-9,-.:\\' \\n]', '', arg)\n",
    "\n",
    "# print(preprocess(sample_text))"
   ]
  },
  {
   "cell_type": "code",
   "execution_count": 7,
   "id": "90e73c8f",
   "metadata": {
    "scrolled": false
   },
   "outputs": [],
   "source": [
    "# text_list = df.transcript.tolist()\n",
    "\n",
    "\n",
    "# for item in text_list[:5]:\n",
    "#     print(\"\\n##########\\n\")\n",
    "    \n",
    "#     print(\"---Before preprocessing\\n\\n\")\n",
    "#     print(item)\n",
    "#     print(\"\\n\\n---After preprocessing\\n\\n\")\n",
    "#     print(preprocess(item))"
   ]
  },
  {
   "cell_type": "code",
   "execution_count": 8,
   "id": "65ab5f4b",
   "metadata": {},
   "outputs": [],
   "source": [
    "# df['transcript'] = df.transcript.map(preprocess)"
   ]
  },
  {
   "cell_type": "code",
   "execution_count": 9,
   "id": "451083c1",
   "metadata": {},
   "outputs": [],
   "source": [
    "# processed_transcripts = df.transcript.tolist()\n",
    "# print(processed_transcripts[0])"
   ]
  },
  {
   "cell_type": "code",
   "execution_count": 10,
   "id": "533ca53d",
   "metadata": {},
   "outputs": [],
   "source": [
    "output_base_loc='/home/cibin/Desktop/exl/TD/data/DS_v1/processed/sample/'\n",
    "\n",
    "\n",
    "def write(text, file_name):\n",
    "    \n",
    "    path = os.path.join(output_base_loc, file_name)\n",
    "    with open(path, 'w+') as f:\n",
    "        \n",
    "        f.write(text)\n",
    "        \n",
    "        \n"
   ]
  },
  {
   "cell_type": "code",
   "execution_count": 11,
   "id": "e49d68ee",
   "metadata": {},
   "outputs": [],
   "source": [
    "# saving the transcripts as txt file\n",
    "for i, transcript in enumerate(transcript_list):\n",
    "    \n",
    "    call_id = id_list[i]\n",
    "    file_name = str(call_id) + \".txt\"\n",
    "    \n",
    "    write(transcript, file_name)\n",
    "    "
   ]
  },
  {
   "cell_type": "code",
   "execution_count": null,
   "id": "96c82c5c",
   "metadata": {},
   "outputs": [],
   "source": []
  },
  {
   "cell_type": "code",
   "execution_count": null,
   "id": "970eb21d",
   "metadata": {},
   "outputs": [],
   "source": []
  }
 ],
 "metadata": {
  "kernelspec": {
   "display_name": "exl_nlp",
   "language": "python",
   "name": "exl_nlp"
  },
  "language_info": {
   "codemirror_mode": {
    "name": "ipython",
    "version": 3
   },
   "file_extension": ".py",
   "mimetype": "text/x-python",
   "name": "python",
   "nbconvert_exporter": "python",
   "pygments_lexer": "ipython3",
   "version": "3.11.5"
  }
 },
 "nbformat": 4,
 "nbformat_minor": 5
}
